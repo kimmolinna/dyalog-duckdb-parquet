{
 "cells": [
  {
   "cell_type": "code",
   "execution_count": 1,
   "metadata": {
    "vscode": {
     "languageId": "apl"
    }
   },
   "outputs": [
    {
     "data": {
      "text/html": [
       "<span style=\"white-space:pre; font-family: monospace\">Linked: #.duck ←→ /home/kimmo/dyalog-duckdb-parquet/../duckdb-dyalog\n",
       "</span>"
      ]
     },
     "execution_count": 1,
     "metadata": {},
     "output_type": "execute_result"
    },
    {
     "data": {
      "text/html": [
       "<span style=\"white-space:pre; font-family: monospace\">Linked: #.caruna ←→ /home/kimmo/dyalog-duckdb-parquet/../caruna-dyalog\n",
       "</span>"
      ]
     },
     "execution_count": 1,
     "metadata": {},
     "output_type": "execute_result"
    },
    {
     "data": {
      "text/html": [
       "<span style=\"white-space:pre; font-family: monospace\">Linked: #.hc ←→ /home/kimmo/dyalog-duckdb-parquet/../dyalog-httpcommand\n",
       "</span>"
      ]
     },
     "execution_count": 1,
     "metadata": {},
     "output_type": "execute_result"
    }
   ],
   "source": [
    "]link.create duck ../duckdb-dyalog\n",
    "]link.create caruna ../caruna-dyalog\n",
    "]link.create hc ../dyalog-httpcommand"
   ]
  },
  {
   "cell_type": "code",
   "execution_count": 18,
   "metadata": {
    "vscode": {
     "languageId": "apl"
    }
   },
   "outputs": [],
   "source": [
    "_year←2021"
   ]
  },
  {
   "cell_type": "code",
   "execution_count": 19,
   "metadata": {
    "vscode": {
     "languageId": "apl"
    }
   },
   "outputs": [],
   "source": [
    "cons_in←caruna.Fetch _year _year\n",
    "price_in←caruna.getElecPrice _year\n"
   ]
  },
  {
   "cell_type": "code",
   "execution_count": 20,
   "metadata": {
    "vscode": {
     "languageId": "apl"
    }
   },
   "outputs": [],
   "source": [
    "duck.db.init '/home/kimmo/duckdb-dyalog/lib/'\n",
    "_db←duck.db.open ':memory:'\n",
    "_con←duck.db.connect _db\n",
    "_←duck.db.query _con 'CREATE TABLE consumption (time TIMESTAMP, consumption DOUBLE)'\n",
    "_←duck.db.append _con '' 'consumption' cons_in  duck.db.type.(TIMESTAMP DOUBLE)\n",
    "_←duck.db.query _con 'CREATE TABLE prices (time TIMESTAMP, price DOUBLE)'\n",
    "_←duck.db.append _con '' 'prices' price_in duck.db.type.(TIMESTAMP DOUBLE)\n",
    "_←duck.db.query _con 'CREATE TABLE electricity AS SELECT c.time,c.consumption,p.price FROM consumption c, prices p WHERE c.time=p.time'\n",
    "_←duck.db.query _con ('COPY (SELECT * FROM electricity) TO ''electricity_',(⍕_year),'.parquet'' (FORMAT ''parquet'')')\n",
    "_←duck.db.disconnect _con\n",
    "_←duck.db.close _db "
   ]
  }
 ],
 "metadata": {
  "kernelspec": {
   "display_name": "Dyalog APL",
   "language": "apl",
   "name": "dyalog-kernel"
  },
  "language_info": {
   "file_extension": ".apl",
   "mimetype": "text/apl",
   "name": "APL"
  },
  "orig_nbformat": 4
 },
 "nbformat": 4,
 "nbformat_minor": 2
}
