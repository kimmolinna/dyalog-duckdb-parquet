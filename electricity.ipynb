{
 "cells": [
  {
   "cell_type": "code",
   "execution_count": 1,
   "metadata": {
    "vscode": {
     "languageId": "apl"
    }
   },
   "outputs": [
    {
     "data": {
      "text/html": [
       "<span style=\"white-space:pre; font-family: monospace\">Linked: #.duck ←→ /home/kimmo/dyalog-duckdb-parquet/../duckdb-dyalog\n",
       "</span>"
      ]
     },
     "execution_count": 1,
     "metadata": {},
     "output_type": "execute_result"
    },
    {
     "data": {
      "text/html": [
       "<span style=\"white-space:pre; font-family: monospace\">Linked: #.caruna ←→ /home/kimmo/dyalog-duckdb-parquet/../caruna-dyalog\n",
       "</span>"
      ]
     },
     "execution_count": 1,
     "metadata": {},
     "output_type": "execute_result"
    },
    {
     "data": {
      "text/html": [
       "<span style=\"white-space:pre; font-family: monospace\">Linked: #.hc ←→ /home/kimmo/dyalog-duckdb-parquet/../dyalog-httpcommand\n",
       "</span>"
      ]
     },
     "execution_count": 1,
     "metadata": {},
     "output_type": "execute_result"
    }
   ],
   "source": [
    "]link.create duck ../duckdb-dyalog\n",
    "]link.create caruna ../caruna-dyalog\n",
    "]link.create hc ../dyalog-httpcommand"
   ]
  },
  {
   "cell_type": "code",
   "execution_count": 2,
   "metadata": {
    "vscode": {
     "languageId": "apl"
    }
   },
   "outputs": [],
   "source": [
    "year2022←caruna.Fetch 2022 2022"
   ]
  },
  {
   "cell_type": "code",
   "execution_count": 3,
   "metadata": {
    "vscode": {
     "languageId": "apl"
    }
   },
   "outputs": [
    {
     "data": {
      "text/html": [
       "<span style=\"white-space:pre; font-family: monospace\">┌──────────────────────────────────────────────────────────────────────────────\n",
       "│┌───────────────────┬───────────────────┬────────────────┬────────────────┬───\n",
       "││2021 12 31 22 0 0 0│2021 12 31 23 0 0 0│2022 1 1 0 0 0 0│2022 1 1 1 0 0 0│202\n",
       "│└───────────────────┴───────────────────┴────────────────┴────────────────┴───\n",
       "└──────────────────────────────────────────────────────────────────────────────\n",
       "      ──────────────┬────────────────────────┐\n",
       "      ─────────────┐│3.21 5.71 9.32 8.01 4.93│\n",
       "      2 1 1 2 0 0 0││                        │\n",
       "      ─────────────┘│                        │\n",
       "      ──────────────┴────────────────────────┘\n",
       "</span>"
      ]
     },
     "execution_count": 3,
     "metadata": {},
     "output_type": "execute_result"
    }
   ],
   "source": [
    "5↑¨year2022"
   ]
  },
  {
   "cell_type": "code",
   "execution_count": 4,
   "metadata": {
    "vscode": {
     "languageId": "apl"
    }
   },
   "outputs": [],
   "source": [
    "duck.db.init '/home/kimmo/duckdb-dyalog/lib/'"
   ]
  },
  {
   "cell_type": "code",
   "execution_count": 5,
   "metadata": {
    "vscode": {
     "languageId": "apl"
    }
   },
   "outputs": [],
   "source": [
    "_db←duck.db.open ':memory:'\n",
    "_con←duck.db.connect _db"
   ]
  },
  {
   "cell_type": "code",
   "execution_count": 6,
   "metadata": {
    "vscode": {
     "languageId": "apl"
    }
   },
   "outputs": [
    {
     "data": {
      "text/html": [
       "<span style=\"white-space:pre; font-family: monospace\">Success!\n",
       "</span>"
      ]
     },
     "execution_count": 6,
     "metadata": {},
     "output_type": "execute_result"
    }
   ],
   "source": [
    "_←duck.db.query _con 'CREATE TABLE consumption (time TIMESTAMP, consumption DOUBLE)'\n",
    "duck.db.append _con '' 'consumption' year2022  duck.db.type.(TIMESTAMP DOUBLE)"
   ]
  },
  {
   "cell_type": "code",
   "execution_count": 7,
   "metadata": {
    "vscode": {
     "languageId": "apl"
    }
   },
   "outputs": [
    {
     "data": {
      "text/html": [
       "<span style=\"white-space:pre; font-family: monospace\">Success!\n",
       "</span>"
      ]
     },
     "execution_count": 7,
     "metadata": {},
     "output_type": "execute_result"
    }
   ],
   "source": [
    "_←duck.db.query _con 'CREATE TABLE prices (time TIMESTAMP, price DOUBLE)'\n",
    "duck.db.append _con '' 'prices' (caruna.getElecPrice 2022)  duck.db.type.(TIMESTAMP DOUBLE)"
   ]
  },
  {
   "cell_type": "code",
   "execution_count": 8,
   "metadata": {
    "vscode": {
     "languageId": "apl"
    }
   },
   "outputs": [],
   "source": [
    "]multiline\n",
    "_←duck.db.query _con ```\n",
    "CREATE TABLE electricity AS \n",
    "SELECT \n",
    "    c.time,\n",
    "    c.consumption,\n",
    "    p.price\n",
    "FROM consumption c, prices p \n",
    "WHERE c.time=p.time\n",
    "```"
   ]
  },
  {
   "cell_type": "code",
   "execution_count": 9,
   "metadata": {
    "vscode": {
     "languageId": "apl"
    }
   },
   "outputs": [
    {
     "data": {
      "text/html": [
       "<span style=\"white-space:pre; font-family: monospace\">┌────┬─────┬───────────┬───────────┬───────────┬──────────────┐\n",
       "│year│month│consumption│costs      │avg_price  │weighted_price│\n",
       "├────┼─────┼───────────┼───────────┼───────────┼──────────────┤\n",
       "│2022│1    │3906.38    │511.4491408│13.24715667│13.09266228   │\n",
       "├────┼─────┼───────────┼───────────┼───────────┼──────────────┤\n",
       "│2022│2    │3078.02    │306.7896531│10.0258244 │9.967110452   │\n",
       "├────┼─────┼───────────┼───────────┼───────────┼──────────────┤\n",
       "│2022│3    │2777.89    │286.8994659│10.74263833│10.32796352   │\n",
       "├────┼─────┼───────────┼───────────┼───────────┼──────────────┤\n",
       "│2022│4    │2145.95    │195.0728148│9.8475375  │9.090277721   │\n",
       "├────┼─────┼───────────┼───────────┼───────────┼──────────────┤\n",
       "│2022│5    │1754.37    │254.6228395│16.411175  │14.51363393   │\n",
       "├────┼─────┼───────────┼───────────┼───────────┼──────────────┤\n",
       "│2022│6    │1456.76    │216.1720991│17.40090278│14.83923907   │\n",
       "├────┼─────┼───────────┼───────────┼───────────┼──────────────┤\n",
       "│2022│7    │1523.36    │319.4839924│22.80603833│20.97232384   │\n",
       "├────┼─────┼───────────┼───────────┼───────────┼──────────────┤\n",
       "│2022│8    │1349.76    │409.8211578│32.43009333│30.36252058   │\n",
       "├────┼─────┼───────────┼───────────┼───────────┼──────────────┤\n",
       "│2022│9    │1274.14    │313.2125894│26.71756528│24.58227427   │\n",
       "├────┼─────┼───────────┼───────────┼───────────┼──────────────┤\n",
       "│2022│10   │1076.59    │143.7606438│13.94566866│13.35333264   │\n",
       "└────┴─────┴───────────┴───────────┴───────────┴──────────────┘\n",
       "</span>"
      ]
     },
     "execution_count": 9,
     "metadata": {},
     "output_type": "execute_result"
    }
   ],
   "source": [
    "]multiline\n",
    "duck.db.toTable duck.db.query _con ```\n",
    "SELECT \n",
    "    year(time) as year,\n",
    "    month(time) as month,\n",
    "    sum(consumption) as consumption,\n",
    "    sum(price*consumption/100) as costs,\n",
    "    avg(price) as avg_price,\n",
    "    sum(price*consumption)/sum(consumption) as weighted_price \n",
    "FROM electricity \n",
    "WHERE year(time)>2021 \n",
    "GROUP BY year(time),month(time)\n",
    "```"
   ]
  },
  {
   "cell_type": "code",
   "execution_count": 10,
   "metadata": {
    "vscode": {
     "languageId": "apl"
    }
   },
   "outputs": [
    {
     "data": {
      "text/html": [
       "<span style=\"white-space:pre; font-family: monospace\">┌───────┬────┬─┐\n",
       "│┌─────┐│7054│5│\n",
       "││Count││    │ │\n",
       "│└─────┘│    │ │\n",
       "└───────┴────┴─┘\n",
       "</span>"
      ]
     },
     "execution_count": 10,
     "metadata": {},
     "output_type": "execute_result"
    }
   ],
   "source": [
    "duck.db.query _con 'COPY (SELECT * FROM electricity) TO ''electricity.parquet'' (FORMAT ''parquet'')'"
   ]
  },
  {
   "cell_type": "code",
   "execution_count": 11,
   "metadata": {
    "vscode": {
     "languageId": "apl"
    }
   },
   "outputs": [],
   "source": [
    "_←duck.db.disconnect _con\n",
    "_←duck.db.close _db "
   ]
  }
 ],
 "metadata": {
  "kernelspec": {
   "display_name": "Dyalog APL",
   "language": "apl",
   "name": "dyalog-kernel"
  },
  "language_info": {
   "file_extension": ".apl",
   "mimetype": "text/apl",
   "name": "APL"
  },
  "orig_nbformat": 4
 },
 "nbformat": 4,
 "nbformat_minor": 2
}
